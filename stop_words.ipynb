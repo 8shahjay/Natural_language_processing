{
  "cells": [
    {
      "cell_type": "markdown",
      "metadata": {
        "id": "view-in-github",
        "colab_type": "text"
      },
      "source": [
        "<a href=\"https://colab.research.google.com/github/newtonxp/Natural_language_processing/blob/main/stop_words.ipynb\" target=\"_parent\"><img src=\"https://colab.research.google.com/assets/colab-badge.svg\" alt=\"Open In Colab\"/></a>"
      ]
    },
    {
      "cell_type": "markdown",
      "id": "b17f58fa",
      "metadata": {
        "id": "b17f58fa"
      },
      "source": [
        "###                     **Stop Words**"
      ]
    },
    {
      "cell_type": "code",
      "execution_count": 1,
      "id": "34f02550",
      "metadata": {
        "id": "34f02550"
      },
      "outputs": [],
      "source": [
        "#import spacy and load the model\n",
        "\n",
        "import spacy\n",
        "nlp = spacy.load(\"en_core_web_sm\")"
      ]
    },
    {
      "cell_type": "markdown",
      "id": "0fe230d8",
      "metadata": {
        "id": "0fe230d8"
      },
      "source": [
        "**Exercise1:**\n",
        "- From a Given Text, Count the number of stop words in it.\n",
        "- Print the percentage of stop word tokens compared to all tokens in a given text."
      ]
    },
    {
      "cell_type": "code",
      "execution_count": 2,
      "id": "646c9e7a",
      "metadata": {
        "colab": {
          "base_uri": "https://localhost:8080/"
        },
        "id": "646c9e7a",
        "outputId": "8cad4c9a-7d83-417e-dac1-c4d978313a52"
      },
      "outputs": [
        {
          "output_type": "stream",
          "name": "stdout",
          "text": [
            "Count: 40\n",
            "Percentage of stop words: 5.221932114882507\n"
          ]
        }
      ],
      "source": [
        "text = '''\n",
        "Thor: Love and Thunder is a 2022 American superhero film based on Marvel Comics featuring the character Thor, produced by Marvel Studios and\n",
        "distributed by Walt Disney Studios Motion Pictures. It is the sequel to Thor: Ragnarok (2017) and the 29th film in the Marvel Cinematic Universe (MCU).\n",
        "The film is directed by Taika Waititi, who co-wrote the script with Jennifer Kaytin Robinson, and stars Chris Hemsworth as Thor alongside Christian Bale, Tessa Thompson,\n",
        "Jaimie Alexander, Waititi, Russell Crowe, and Natalie Portman. In the film, Thor attempts to find inner peace, but must return to action and recruit Valkyrie (Thompson),\n",
        "Korg (Waititi), and Jane Foster (Portman)—who is now the Mighty Thor—to stop Gorr the God Butcher (Bale) from eliminating all gods.\n",
        "'''\n",
        "\n",
        "# create the object 'doc' for the given text using nlp()\n",
        "\n",
        "doc = nlp(text)\n",
        "\n",
        "# define the variables to keep track of stopwords count and total words count\n",
        "st_words = 0\n",
        "words = len(text)\n",
        "\n",
        "\n",
        "# iterate through all the words in the document\n",
        "for token in doc:\n",
        "  if token.is_stop:\n",
        "    st_words += 1\n",
        "\n",
        "\n",
        "#step4: print the count of stop words\n",
        "print(\"Count:\", st_words)\n",
        "\n",
        "\n",
        "# print the percentage of stop words compared to total words in the text\n",
        "print(\"Percentage of stop words:\", (st_words * 100)/words)"
      ]
    },
    {
      "cell_type": "markdown",
      "id": "vsJaC5a-ldY-",
      "metadata": {
        "id": "vsJaC5a-ldY-"
      },
      "source": [
        "**Exercise2:**\n",
        "\n",
        "- Spacy default implementation considers **\"not\"** as a stop word. But in some scenarios removing 'not' will completely change the meaning of the statement/text. For Example, consider these two statements:\n",
        "\n",
        "      - this is a good movie       ----> Positive Statement\n",
        "      - this is not a good movie   ----> Negative Statement\n",
        "\n",
        "- So, after applying stopwords to those 2 texts, both will return **\"good movie\"** and does not respect the polarity/sentiments of text.\n",
        "  \n",
        "- Now, the task is to remove this stop word **\"not\"** in spaCy and help in distinguishing the texts.\n",
        "\n",
        "\n",
        "\n"
      ]
    },
    {
      "cell_type": "code",
      "execution_count": 3,
      "id": "4e9e663a",
      "metadata": {
        "colab": {
          "base_uri": "https://localhost:8080/"
        },
        "id": "4e9e663a",
        "outputId": "13af4488-efe0-4b38-818c-bf3ddb8ad76f"
      },
      "outputs": [
        {
          "output_type": "stream",
          "name": "stdout",
          "text": [
            "Positive review: good movie\n",
            "Negative review: not good movie\n"
          ]
        }
      ],
      "source": [
        "#use the function to pass the text and to remove all the stop words and finally get the cleaned form\n",
        "def preprocess(text):\n",
        "    doc = nlp(text)\n",
        "    no_stop_words = [token.text for token in doc if not token.is_stop]\n",
        "    return \" \".join(no_stop_words)\n",
        "\n",
        "\n",
        "# remove the stopword 'not' in spacy\n",
        "nlp.vocab['not'].is_stop = False\n",
        "\n",
        "\n",
        "# send the two texts given above into the pre-process function and store the transformed texts\n",
        "text1 = preprocess('this is a good movie')\n",
        "text2 = preprocess('this is not a good movie')\n",
        "\n",
        "\n",
        "# finally print those 2 transformed texts\n",
        "print(\"Positive review:\", text1)\n",
        "print(\"Negative review:\", text2)"
      ]
    },
    {
      "cell_type": "markdown",
      "id": "RWnHxZy-Fv5S",
      "metadata": {
        "id": "RWnHxZy-Fv5S"
      },
      "source": [
        "**Exercise3:**\n",
        "\n",
        "- From a given text, output the **most frequently** used token after removing all the stop word tokens and punctuations in it.\n",
        "\n"
      ]
    },
    {
      "cell_type": "code",
      "execution_count": 4,
      "id": "GfLMTZmBFlPI",
      "metadata": {
        "colab": {
          "base_uri": "https://localhost:8080/"
        },
        "id": "GfLMTZmBFlPI",
        "outputId": "05288177-ae50-4acf-d8dd-fe7e5ee22ad9"
      },
      "outputs": [
        {
          "output_type": "stream",
          "name": "stdout",
          "text": [
            "Most frequent word: India\n"
          ]
        }
      ],
      "source": [
        "text = ''' The India men's national cricket team, also known as Team India or the Men in Blue, represents India in men's international cricket.\n",
        "It is governed by the Board of Control for Cricket in India (BCCI), and is a Full Member of the International Cricket Council (ICC) with Test,\n",
        "One Day International (ODI) and Twenty20 International (T20I) status. Cricket was introduced to India by British sailors in the 18th century, and the\n",
        "first cricket club was established in 1792. India's national cricket team played its first Test match on 25 June 1932 at Lord's, becoming the sixth team to be\n",
        "granted test cricket status.\n",
        "'''\n",
        "\n",
        "\n",
        "# create the object 'doc' for the given text using nlp()\n",
        "doc = nlp(text)\n",
        "\n",
        "\n",
        "# remove all the stop words and punctuations and store all the remaining tokens in a new list\n",
        "words = [token.text for token in doc if not token.is_stop and not token.is_punct]\n",
        "\n",
        "\n",
        "# create a new dictionary and get the frequency of words by iterating through the list which contains stored tokens\n",
        "frequency_tokens = {}\n",
        "for token in words:\n",
        "  if token != '\\n' and token != ' ':\n",
        "    if token not in frequency_tokens:\n",
        "      frequency_tokens[token] = 1\n",
        "    else:\n",
        "      frequency_tokens[token] += 1\n",
        "\n",
        "\n",
        "\n",
        "# get the maximum frequency word\n",
        "max_freq_word = max(frequency_tokens.keys(), key=(lambda key: frequency_tokens[key] ) )\n",
        "\n",
        "\n",
        "# finally print the result\n",
        "print(\"Most frequent word:\", max_freq_word)"
      ]
    }
  ],
  "metadata": {
    "colab": {
      "provenance": [],
      "include_colab_link": true
    },
    "kernelspec": {
      "display_name": "Python 3 (ipykernel)",
      "language": "python",
      "name": "python3"
    },
    "language_info": {
      "codemirror_mode": {
        "name": "ipython",
        "version": 3
      },
      "file_extension": ".py",
      "mimetype": "text/x-python",
      "name": "python",
      "nbconvert_exporter": "python",
      "pygments_lexer": "ipython3",
      "version": "3.8.10"
    }
  },
  "nbformat": 4,
  "nbformat_minor": 5
}
