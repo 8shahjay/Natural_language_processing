{
  "cells": [
    {
      "cell_type": "markdown",
      "metadata": {
        "id": "view-in-github",
        "colab_type": "text"
      },
      "source": [
        "<a href=\"https://colab.research.google.com/github/newtonxp/Natural_language_processing/blob/main/stemming_and_lemmatization.ipynb\" target=\"_parent\"><img src=\"https://colab.research.google.com/assets/colab-badge.svg\" alt=\"Open In Colab\"/></a>"
      ]
    },
    {
      "cell_type": "markdown",
      "metadata": {
        "id": "-eWVL6QPtJqx"
      },
      "source": [
        "###                     **Stemming and Lemmatization**"
      ]
    },
    {
      "cell_type": "markdown",
      "metadata": {
        "id": "06BXDuRvGvbX"
      },
      "source": [
        "- **Run this cell to import all necessary packages**"
      ]
    },
    {
      "cell_type": "code",
      "execution_count": null,
      "metadata": {
        "id": "fn0J_mWHtM57",
        "colab": {
          "base_uri": "https://localhost:8080/"
        },
        "outputId": "3d33986c-2096-4fdf-e660-c4d9c11b4bd3"
      },
      "outputs": [
        {
          "output_type": "stream",
          "name": "stderr",
          "text": [
            "[nltk_data] Downloading package punkt to /root/nltk_data...\n",
            "[nltk_data]   Unzipping tokenizers/punkt.zip.\n"
          ]
        }
      ],
      "source": [
        "#let import necessary libraries and create the object\n",
        "\n",
        "#for nltk\n",
        "import nltk\n",
        "from nltk.stem import PorterStemmer\n",
        "stemmer = PorterStemmer()\n",
        "\n",
        "#download the package 'punkt' related to nltk\n",
        "nltk.download('punkt')\n",
        "\n",
        "\n",
        "#for spacy\n",
        "import spacy\n",
        "nlp = spacy.load(\"en_core_web_sm\")"
      ]
    },
    {
      "cell_type": "markdown",
      "metadata": {
        "id": "xCjMD77juhOm"
      },
      "source": [
        "**Exercise1:**\n",
        "- Convert these list of words into base form using Stemming and Lemmatization and observe the transformations\n",
        "- Write a short note on the words that have different base words using stemming and Lemmatization"
      ]
    },
    {
      "cell_type": "code",
      "execution_count": null,
      "metadata": {
        "colab": {
          "base_uri": "https://localhost:8080/"
        },
        "id": "5Ytgw50jtM_h",
        "outputId": "6b4a5881-0f79-44a0-93c2-cbf0e0977c39"
      },
      "outputs": [
        {
          "output_type": "stream",
          "name": "stdout",
          "text": [
            "running  |  run\n",
            "painting  |  paint\n",
            "walking  |  walk\n",
            "dressing  |  dress\n",
            "likely  |  like\n",
            "children  |  children\n",
            "whom  |  whom\n",
            "good  |  good\n",
            "ate  |  ate\n",
            "fishing  |  fish\n"
          ]
        }
      ],
      "source": [
        "#using stemming in nltk\n",
        "lst_words = ['running', 'painting', 'walking', 'dressing', 'likely', 'children', 'whom', 'good', 'ate', 'fishing']\n",
        "\n",
        "for word in lst_words:\n",
        "  print(word, \" | \", stemmer.stem(word))\n"
      ]
    },
    {
      "cell_type": "code",
      "execution_count": null,
      "metadata": {
        "colab": {
          "base_uri": "https://localhost:8080/"
        },
        "id": "uU7oPj0ftNCP",
        "outputId": "9408fe38-e72e-430e-f628-99c84a8e1e7c"
      },
      "outputs": [
        {
          "output_type": "stream",
          "name": "stdout",
          "text": [
            "running  |  run\n",
            "painting  |  paint\n",
            "walking  |  walk\n",
            "dressing  |  dress\n",
            "likely  |  likely\n",
            "children  |  child\n",
            "who  |  who\n",
            "good  |  good\n",
            "ate  |  eat\n",
            "fishing  |  fishing\n"
          ]
        }
      ],
      "source": [
        "#using lemmatization in spacy\n",
        "\n",
        "doc = nlp(\"running painting walking dressing likely children who good ate fishing\")\n",
        "\n",
        "for word in doc:\n",
        "  print(word, \" | \", word.lemma_)\n"
      ]
    },
    {
      "cell_type": "markdown",
      "metadata": {
        "id": "CLjsQGjVye5W"
      },
      "source": [
        "**Exercise2:**\n",
        "\n",
        "- convert the given text into it's base form using both stemming and lemmatization"
      ]
    },
    {
      "cell_type": "code",
      "execution_count": null,
      "metadata": {
        "id": "0weT7a9tygnk"
      },
      "outputs": [],
      "source": [
        "text = \"\"\"Latha is very multi talented girl.She is good at many skills like dancing, running, singing, playing.She also likes eating Pav Bhaji. she has a\n",
        "habit of fishing and swimming too.Besides all this, she is a wonderful at cooking too.\n",
        "\"\"\""
      ]
    },
    {
      "cell_type": "code",
      "execution_count": null,
      "metadata": {
        "colab": {
          "base_uri": "https://localhost:8080/"
        },
        "id": "JP29y7cjygqa",
        "outputId": "bae1d327-bfbe-48ff-f2a9-9560d83f622e"
      },
      "outputs": [
        {
          "output_type": "stream",
          "name": "stdout",
          "text": [
            "latha is veri multi talent girl.sh is good at mani skill like danc , run , sing , playing.sh also like eat pav bhaji . she ha a habit of fish and swim too.besid all thi , she is a wonder at cook too .\n"
          ]
        }
      ],
      "source": [
        "#using stemming in nltk\n",
        "\n",
        "\n",
        "#step1: Word tokenizing\n",
        "all_words_token = nltk.word_tokenize(text)\n",
        "\n",
        "\n",
        "\n",
        "#step2: getting the base form for each token using stemmer\n",
        "base_words = []\n",
        "\n",
        "for word in all_words_token:\n",
        "  base_form = stemmer.stem(word)\n",
        "  base_words.append(base_form)\n",
        "\n",
        "\n",
        "\n",
        "#step3: joining all words in a list into string using 'join()'\n",
        "print(' '.join(base_words))"
      ]
    },
    {
      "cell_type": "code",
      "execution_count": null,
      "metadata": {
        "colab": {
          "base_uri": "https://localhost:8080/"
        },
        "id": "hysIhJuxyg0B",
        "outputId": "ceaf6564-cf1a-4493-b52c-e3a8be7ac95b"
      },
      "outputs": [
        {
          "output_type": "stream",
          "name": "stdout",
          "text": [
            "Latha be very multi talented girl . she be good at many skill like dancing , running , singing , play . she also like eat Pav Bhaji . she have a \n",
            " habit of fishing and swim too . besides all this , she be a wonderful at cook too . \n",
            "\n"
          ]
        }
      ],
      "source": [
        "#using lemmatization in spacy\n",
        "\n",
        "\n",
        "#step1: Creating the object for the given text\n",
        "doc = nlp(text)\n",
        "\n",
        "\n",
        "#step2: getting the base form for each token using spacy 'lemma_'\n",
        "base_words = []\n",
        "\n",
        "for word in doc:\n",
        "  base_form = word.lemma_\n",
        "  base_words.append(base_form)\n",
        "\n",
        "\n",
        "\n",
        "#step3: joining all words in a list into string using 'join()'\n",
        "print(\" \".join(base_words))"
      ]
    },
    {
      "cell_type": "markdown",
      "source": [
        "**Observations**\n",
        "\n",
        "- Stemming is a heuristic process in NLTK that chops off suffixes from words to obtain their root form. The stemming algorithm is faster but less accurate than lemmatization. For example, the word \"running\" is stemmed to \"run,\" and \"jumps\" is stemmed to \"jump.\" However, stemming may result in words that are not actual words in the language, as it follows a set of predefined rules.\n",
        "\n",
        "- Lemmatization, on the other hand, uses a more sophisticated approach in spaCy to convert words to their base or dictionary form (lemma). It considers the context of the word and its part of speech (POS) to provide accurate lemmatized forms. For example, the word \"running\" is lemmatized to \"run,\" and \"jumps\" is lemmatized to \"jump.\" Lemmatization ensures that the output is a valid word in the language and is more linguistically accurate compared to stemming."
      ],
      "metadata": {
        "id": "wUMOB026SD-5"
      }
    }
  ],
  "metadata": {
    "colab": {
      "provenance": [],
      "include_colab_link": true
    },
    "kernelspec": {
      "display_name": "Python 3 (ipykernel)",
      "language": "python",
      "name": "python3"
    },
    "language_info": {
      "codemirror_mode": {
        "name": "ipython",
        "version": 3
      },
      "file_extension": ".py",
      "mimetype": "text/x-python",
      "name": "python",
      "nbconvert_exporter": "python",
      "pygments_lexer": "ipython3",
      "version": "3.8.10"
    }
  },
  "nbformat": 4,
  "nbformat_minor": 0
}