{
  "cells": [
    {
      "cell_type": "markdown",
      "metadata": {
        "id": "view-in-github",
        "colab_type": "text"
      },
      "source": [
        "<a href=\"https://colab.research.google.com/github/newtonxp/Natural_language_processing/blob/main/bag_of_words.ipynb\" target=\"_parent\"><img src=\"https://colab.research.google.com/assets/colab-badge.svg\" alt=\"Open In Colab\"/></a>"
      ]
    },
    {
      "cell_type": "code",
      "execution_count": 1,
      "metadata": {
        "id": "JW6MPIjib_4G"
      },
      "outputs": [],
      "source": [
        "#Import necessary libraries\n",
        "\n",
        "import pandas as pd\n",
        "import numpy as np\n",
        "from sklearn.model_selection import train_test_split\n",
        "from sklearn.feature_extraction.text import CountVectorizer\n",
        "from sklearn.ensemble import RandomForestClassifier\n",
        "from  sklearn.neighbors import KNeighborsClassifier\n",
        "from sklearn.naive_bayes import MultinomialNB\n",
        "from sklearn.pipeline import Pipeline\n",
        "from sklearn.metrics import classification_report"
      ]
    },
    {
      "cell_type": "markdown",
      "metadata": {
        "id": "kDATDCL8NMML"
      },
      "source": [
        "### **About Data: IMDB Dataset**\n",
        "\n",
        "Credits: https://www.kaggle.com/datasets/lakshmi25npathi/imdb-dataset-of-50k-movie-reviews?resource=download\n",
        "\n",
        "\n",
        "- This data consists of two columns.\n",
        "        - review\n",
        "        - sentiment\n",
        "- Reviews are the statements given by users after watching the movie.\n",
        "- sentiment feature tells whether the given review is positive or negative."
      ]
    },
    {
      "cell_type": "code",
      "execution_count": 2,
      "metadata": {
        "colab": {
          "base_uri": "https://localhost:8080/",
          "height": 224
        },
        "id": "beL29JwEb_7O",
        "outputId": "d436cec1-ec05-4309-96c0-9c1bf0da293b"
      },
      "outputs": [
        {
          "output_type": "stream",
          "name": "stdout",
          "text": [
            "(19000, 2)\n"
          ]
        },
        {
          "output_type": "execute_result",
          "data": {
            "text/plain": [
              "                                              review sentiment\n",
              "0  I first saw Jake Gyllenhaal in Jarhead (2005) ...  positive\n",
              "1  I enjoyed the movie and the story immensely! I...  positive\n",
              "2  I had a hard time sitting through this. Every ...  negative\n",
              "3  It's hard to imagine that anyone could find th...  negative\n",
              "4  This is one military drama I like a lot! Tom B...  positive"
            ],
            "text/html": [
              "\n",
              "\n",
              "  <div id=\"df-1a49e2ba-aa13-4560-9d0e-e441467b4bc8\">\n",
              "    <div class=\"colab-df-container\">\n",
              "      <div>\n",
              "<style scoped>\n",
              "    .dataframe tbody tr th:only-of-type {\n",
              "        vertical-align: middle;\n",
              "    }\n",
              "\n",
              "    .dataframe tbody tr th {\n",
              "        vertical-align: top;\n",
              "    }\n",
              "\n",
              "    .dataframe thead th {\n",
              "        text-align: right;\n",
              "    }\n",
              "</style>\n",
              "<table border=\"1\" class=\"dataframe\">\n",
              "  <thead>\n",
              "    <tr style=\"text-align: right;\">\n",
              "      <th></th>\n",
              "      <th>review</th>\n",
              "      <th>sentiment</th>\n",
              "    </tr>\n",
              "  </thead>\n",
              "  <tbody>\n",
              "    <tr>\n",
              "      <th>0</th>\n",
              "      <td>I first saw Jake Gyllenhaal in Jarhead (2005) ...</td>\n",
              "      <td>positive</td>\n",
              "    </tr>\n",
              "    <tr>\n",
              "      <th>1</th>\n",
              "      <td>I enjoyed the movie and the story immensely! I...</td>\n",
              "      <td>positive</td>\n",
              "    </tr>\n",
              "    <tr>\n",
              "      <th>2</th>\n",
              "      <td>I had a hard time sitting through this. Every ...</td>\n",
              "      <td>negative</td>\n",
              "    </tr>\n",
              "    <tr>\n",
              "      <th>3</th>\n",
              "      <td>It's hard to imagine that anyone could find th...</td>\n",
              "      <td>negative</td>\n",
              "    </tr>\n",
              "    <tr>\n",
              "      <th>4</th>\n",
              "      <td>This is one military drama I like a lot! Tom B...</td>\n",
              "      <td>positive</td>\n",
              "    </tr>\n",
              "  </tbody>\n",
              "</table>\n",
              "</div>\n",
              "      <button class=\"colab-df-convert\" onclick=\"convertToInteractive('df-1a49e2ba-aa13-4560-9d0e-e441467b4bc8')\"\n",
              "              title=\"Convert this dataframe to an interactive table.\"\n",
              "              style=\"display:none;\">\n",
              "\n",
              "  <svg xmlns=\"http://www.w3.org/2000/svg\" height=\"24px\"viewBox=\"0 0 24 24\"\n",
              "       width=\"24px\">\n",
              "    <path d=\"M0 0h24v24H0V0z\" fill=\"none\"/>\n",
              "    <path d=\"M18.56 5.44l.94 2.06.94-2.06 2.06-.94-2.06-.94-.94-2.06-.94 2.06-2.06.94zm-11 1L8.5 8.5l.94-2.06 2.06-.94-2.06-.94L8.5 2.5l-.94 2.06-2.06.94zm10 10l.94 2.06.94-2.06 2.06-.94-2.06-.94-.94-2.06-.94 2.06-2.06.94z\"/><path d=\"M17.41 7.96l-1.37-1.37c-.4-.4-.92-.59-1.43-.59-.52 0-1.04.2-1.43.59L10.3 9.45l-7.72 7.72c-.78.78-.78 2.05 0 2.83L4 21.41c.39.39.9.59 1.41.59.51 0 1.02-.2 1.41-.59l7.78-7.78 2.81-2.81c.8-.78.8-2.07 0-2.86zM5.41 20L4 18.59l7.72-7.72 1.47 1.35L5.41 20z\"/>\n",
              "  </svg>\n",
              "      </button>\n",
              "\n",
              "\n",
              "\n",
              "    <div id=\"df-d0dd5d60-24e2-415e-bc13-b5b84cfc7ce1\">\n",
              "      <button class=\"colab-df-quickchart\" onclick=\"quickchart('df-d0dd5d60-24e2-415e-bc13-b5b84cfc7ce1')\"\n",
              "              title=\"Suggest charts.\"\n",
              "              style=\"display:none;\">\n",
              "\n",
              "<svg xmlns=\"http://www.w3.org/2000/svg\" height=\"24px\"viewBox=\"0 0 24 24\"\n",
              "     width=\"24px\">\n",
              "    <g>\n",
              "        <path d=\"M19 3H5c-1.1 0-2 .9-2 2v14c0 1.1.9 2 2 2h14c1.1 0 2-.9 2-2V5c0-1.1-.9-2-2-2zM9 17H7v-7h2v7zm4 0h-2V7h2v10zm4 0h-2v-4h2v4z\"/>\n",
              "    </g>\n",
              "</svg>\n",
              "      </button>\n",
              "    </div>\n",
              "\n",
              "<style>\n",
              "  .colab-df-quickchart {\n",
              "    background-color: #E8F0FE;\n",
              "    border: none;\n",
              "    border-radius: 50%;\n",
              "    cursor: pointer;\n",
              "    display: none;\n",
              "    fill: #1967D2;\n",
              "    height: 32px;\n",
              "    padding: 0 0 0 0;\n",
              "    width: 32px;\n",
              "  }\n",
              "\n",
              "  .colab-df-quickchart:hover {\n",
              "    background-color: #E2EBFA;\n",
              "    box-shadow: 0px 1px 2px rgba(60, 64, 67, 0.3), 0px 1px 3px 1px rgba(60, 64, 67, 0.15);\n",
              "    fill: #174EA6;\n",
              "  }\n",
              "\n",
              "  [theme=dark] .colab-df-quickchart {\n",
              "    background-color: #3B4455;\n",
              "    fill: #D2E3FC;\n",
              "  }\n",
              "\n",
              "  [theme=dark] .colab-df-quickchart:hover {\n",
              "    background-color: #434B5C;\n",
              "    box-shadow: 0px 1px 3px 1px rgba(0, 0, 0, 0.15);\n",
              "    filter: drop-shadow(0px 1px 2px rgba(0, 0, 0, 0.3));\n",
              "    fill: #FFFFFF;\n",
              "  }\n",
              "</style>\n",
              "\n",
              "    <script>\n",
              "      async function quickchart(key) {\n",
              "        const containerElement = document.querySelector('#' + key);\n",
              "        const charts = await google.colab.kernel.invokeFunction(\n",
              "            'suggestCharts', [key], {});\n",
              "      }\n",
              "    </script>\n",
              "\n",
              "      <script>\n",
              "\n",
              "function displayQuickchartButton(domScope) {\n",
              "  let quickchartButtonEl =\n",
              "    domScope.querySelector('#df-d0dd5d60-24e2-415e-bc13-b5b84cfc7ce1 button.colab-df-quickchart');\n",
              "  quickchartButtonEl.style.display =\n",
              "    google.colab.kernel.accessAllowed ? 'block' : 'none';\n",
              "}\n",
              "\n",
              "        displayQuickchartButton(document);\n",
              "      </script>\n",
              "      <style>\n",
              "    .colab-df-container {\n",
              "      display:flex;\n",
              "      flex-wrap:wrap;\n",
              "      gap: 12px;\n",
              "    }\n",
              "\n",
              "    .colab-df-convert {\n",
              "      background-color: #E8F0FE;\n",
              "      border: none;\n",
              "      border-radius: 50%;\n",
              "      cursor: pointer;\n",
              "      display: none;\n",
              "      fill: #1967D2;\n",
              "      height: 32px;\n",
              "      padding: 0 0 0 0;\n",
              "      width: 32px;\n",
              "    }\n",
              "\n",
              "    .colab-df-convert:hover {\n",
              "      background-color: #E2EBFA;\n",
              "      box-shadow: 0px 1px 2px rgba(60, 64, 67, 0.3), 0px 1px 3px 1px rgba(60, 64, 67, 0.15);\n",
              "      fill: #174EA6;\n",
              "    }\n",
              "\n",
              "    [theme=dark] .colab-df-convert {\n",
              "      background-color: #3B4455;\n",
              "      fill: #D2E3FC;\n",
              "    }\n",
              "\n",
              "    [theme=dark] .colab-df-convert:hover {\n",
              "      background-color: #434B5C;\n",
              "      box-shadow: 0px 1px 3px 1px rgba(0, 0, 0, 0.15);\n",
              "      filter: drop-shadow(0px 1px 2px rgba(0, 0, 0, 0.3));\n",
              "      fill: #FFFFFF;\n",
              "    }\n",
              "  </style>\n",
              "\n",
              "      <script>\n",
              "        const buttonEl =\n",
              "          document.querySelector('#df-1a49e2ba-aa13-4560-9d0e-e441467b4bc8 button.colab-df-convert');\n",
              "        buttonEl.style.display =\n",
              "          google.colab.kernel.accessAllowed ? 'block' : 'none';\n",
              "\n",
              "        async function convertToInteractive(key) {\n",
              "          const element = document.querySelector('#df-1a49e2ba-aa13-4560-9d0e-e441467b4bc8');\n",
              "          const dataTable =\n",
              "            await google.colab.kernel.invokeFunction('convertToInteractive',\n",
              "                                                     [key], {});\n",
              "          if (!dataTable) return;\n",
              "\n",
              "          const docLinkHtml = 'Like what you see? Visit the ' +\n",
              "            '<a target=\"_blank\" href=https://colab.research.google.com/notebooks/data_table.ipynb>data table notebook</a>'\n",
              "            + ' to learn more about interactive tables.';\n",
              "          element.innerHTML = '';\n",
              "          dataTable['output_type'] = 'display_data';\n",
              "          await google.colab.output.renderOutput(dataTable, element);\n",
              "          const docLink = document.createElement('div');\n",
              "          docLink.innerHTML = docLinkHtml;\n",
              "          element.appendChild(docLink);\n",
              "        }\n",
              "      </script>\n",
              "    </div>\n",
              "  </div>\n"
            ]
          },
          "metadata": {},
          "execution_count": 2
        }
      ],
      "source": [
        "# read the data provided in the same directory with name 'movies_sentiment_data.csv' and store it in df variable\n",
        "df = pd.read_csv('movies_sentiment_data.csv')\n",
        "\n",
        "\n",
        "# print the shape of the data\n",
        "print(df.shape)\n",
        "\n",
        "# print top 5 datapoints\n",
        "df.head()"
      ]
    },
    {
      "cell_type": "code",
      "execution_count": 3,
      "metadata": {
        "id": "_GPdBCCK40zT"
      },
      "outputs": [],
      "source": [
        "#create a new column \"Category\" which represent 1 if the sentiment is positive or 0 if it is negative\n",
        "df['Category'] = df['sentiment'].apply(lambda x: 0 if x=='negative' else 1)"
      ]
    },
    {
      "cell_type": "code",
      "execution_count": 6,
      "metadata": {
        "colab": {
          "base_uri": "https://localhost:8080/"
        },
        "id": "OSwPM7mub_9S",
        "outputId": "814a0faa-40a3-4d14-cab5-06dcd812fbe1"
      },
      "outputs": [
        {
          "output_type": "execute_result",
          "data": {
            "text/plain": [
              "1    9500\n",
              "0    9500\n",
              "Name: Category, dtype: int64"
            ]
          },
          "metadata": {},
          "execution_count": 6
        }
      ],
      "source": [
        "#check the distribution of 'Category' and see whether the Target labels are balanced or not.\n",
        "df.Category.value_counts()\n"
      ]
    },
    {
      "cell_type": "markdown",
      "source": [
        "**Train-Test split**\n",
        "- Random state = 0 to make it consistent for every run\n",
        "- test size = 0.2 implies 80% train data"
      ],
      "metadata": {
        "id": "A4ZV-dZMPcDN"
      }
    },
    {
      "cell_type": "code",
      "execution_count": 7,
      "metadata": {
        "id": "IB97QiFCcAAe"
      },
      "outputs": [],
      "source": [
        "#Do the 'train-test' splitting with test size of 20%\n",
        "\n",
        "x_train, x_test, y_train, y_test = train_test_split(df.review, df.Category, test_size=0.2, random_state=0, )"
      ]
    },
    {
      "cell_type": "code",
      "execution_count": null,
      "metadata": {
        "id": "mtr4mSLEMWiU"
      },
      "outputs": [],
      "source": []
    },
    {
      "cell_type": "markdown",
      "metadata": {
        "id": "J-pUGPqwMrDQ"
      },
      "source": [
        "**Attempt 1**\n",
        "\n",
        "1. using sklearn pipeline module create a classification pipeline to classify the movie review's positive or negative.\n",
        "\n",
        "**Note:**\n",
        "- using CountVectorizer for pre-processing the text.\n",
        "\n",
        "- using **Random Forest** as the classifier with estimators as 50 and criterion as entropy.\n",
        "- printing the classification report.\n",
        "\n",
        "**References**:\n",
        "\n",
        "- https://scikit-learn.org/stable/modules/generated/sklearn.ensemble.RandomForestClassifier.html\n",
        "\n",
        "- https://scikit-learn.org/stable/modules/generated/sklearn.feature_extraction.text.CountVectorizer.html"
      ]
    },
    {
      "cell_type": "code",
      "execution_count": 8,
      "metadata": {
        "colab": {
          "base_uri": "https://localhost:8080/"
        },
        "id": "CbldZv03MWkB",
        "outputId": "4fd89da7-95b6-48e1-93bc-88e8f406f127"
      },
      "outputs": [
        {
          "output_type": "stream",
          "name": "stdout",
          "text": [
            "              precision    recall  f1-score   support\n",
            "\n",
            "           0       0.82      0.84      0.83      1908\n",
            "           1       0.83      0.81      0.82      1892\n",
            "\n",
            "    accuracy                           0.83      3800\n",
            "   macro avg       0.83      0.83      0.83      3800\n",
            "weighted avg       0.83      0.83      0.83      3800\n",
            "\n"
          ]
        }
      ],
      "source": [
        "# create a pipeline object\n",
        "clf = Pipeline([\n",
        "        ('Vectorizer', CountVectorizer()),\n",
        "        ('Classifier', RandomForestClassifier(n_estimators=50, criterion='entropy'))\n",
        "    ])\n",
        "\n",
        "\n",
        "\n",
        "# fit with X_train and y_train\n",
        "clf.fit(x_train, y_train)\n",
        "\n",
        "\n",
        "# get the predictions for X_test and store it in y_pred\n",
        "y_pred = clf.predict(x_test)\n",
        "\n",
        "\n",
        "# print the classfication report\n",
        "print(classification_report(y_test, y_pred))"
      ]
    },
    {
      "cell_type": "markdown",
      "metadata": {
        "id": "WMVvGzqXSFYr"
      },
      "source": [
        "**Attempt 2**\n",
        "\n",
        "1. using sklearn pipeline module create a classification pipeline to classify the movie review's positive or negative..\n",
        "\n",
        "**Note:**\n",
        "- using CountVectorizer for pre-processing the text.\n",
        "- using **KNN** as the classifier with n_neighbors of 10 and metric as 'euclidean'.\n",
        "- printing the classification report.\n",
        "\n",
        "**References**:\n",
        "\n",
        "- https://scikit-learn.org/stable/modules/generated/sklearn.feature_extraction.text.CountVectorizer.html\n",
        "- https://scikit-learn.org/stable/modules/generated/sklearn.neighbors.KNeighborsClassifier.html\n",
        "\n"
      ]
    },
    {
      "cell_type": "code",
      "execution_count": 9,
      "metadata": {
        "colab": {
          "base_uri": "https://localhost:8080/"
        },
        "id": "tYkY77S6MWng",
        "outputId": "f91bb022-5783-4f35-f33e-b3054248c8ce"
      },
      "outputs": [
        {
          "output_type": "stream",
          "name": "stdout",
          "text": [
            "              precision    recall  f1-score   support\n",
            "\n",
            "           0       0.64      0.65      0.65      1908\n",
            "           1       0.64      0.63      0.64      1892\n",
            "\n",
            "    accuracy                           0.64      3800\n",
            "   macro avg       0.64      0.64      0.64      3800\n",
            "weighted avg       0.64      0.64      0.64      3800\n",
            "\n"
          ]
        }
      ],
      "source": [
        "\n",
        "# create a pipeline object\n",
        "clf = Pipeline([\n",
        "        ('Vectorizer', CountVectorizer()),\n",
        "        ('Classifier', KNeighborsClassifier(n_neighbors=10, metric='euclidean'))\n",
        "    ])\n",
        "\n",
        "# fit with X_train and y_train\n",
        "clf.fit(x_train, y_train)\n",
        "\n",
        "\n",
        "# get the predictions for X_test and store it in y_pred\n",
        "y_pred = clf.predict(x_test)\n",
        "\n",
        "\n",
        "# print the classfication report\n",
        "print(classification_report(y_test, y_pred))"
      ]
    },
    {
      "cell_type": "markdown",
      "metadata": {
        "id": "k2kmq14Y40zV"
      },
      "source": [
        "**Attempt 3**\n",
        "\n",
        "1. using sklearn pipeline module create a classification pipeline to classify the movie review's positive or negative..\n",
        "\n",
        "\n",
        "- using CountVectorizer for pre-processing the text.\n",
        "- using **Multinomial Naive Bayes** as the classifier.\n",
        "- printing the classification report.\n",
        "\n",
        "**References**:\n",
        "\n",
        "- https://scikit-learn.org/stable/modules/generated/sklearn.feature_extraction.text.CountVectorizer.html\n",
        "- https://scikit-learn.org/stable/modules/generated/sklearn.naive_bayes.MultinomialNB.html\n",
        "\n"
      ]
    },
    {
      "cell_type": "code",
      "execution_count": 10,
      "metadata": {
        "colab": {
          "base_uri": "https://localhost:8080/"
        },
        "id": "7vwnZshv40zV",
        "outputId": "307da615-7b51-4f58-8662-75deac8c6cc3"
      },
      "outputs": [
        {
          "output_type": "stream",
          "name": "stdout",
          "text": [
            "              precision    recall  f1-score   support\n",
            "\n",
            "           0       0.83      0.88      0.86      1908\n",
            "           1       0.87      0.82      0.85      1892\n",
            "\n",
            "    accuracy                           0.85      3800\n",
            "   macro avg       0.85      0.85      0.85      3800\n",
            "weighted avg       0.85      0.85      0.85      3800\n",
            "\n"
          ]
        }
      ],
      "source": [
        "# create a pipeline object\n",
        "clf = Pipeline([\n",
        "        ('Vectorizer', CountVectorizer()),\n",
        "        ('Classifier', MultinomialNB())\n",
        "    ])\n",
        "\n",
        "# fit with X_train and y_train\n",
        "clf.fit(x_train, y_train)\n",
        "\n",
        "\n",
        "# get the predictions for X_test and store it in y_pred\n",
        "y_pred = clf.predict(x_test)\n",
        "\n",
        "\n",
        "# print the classfication report\n",
        "print(classification_report(y_test, y_pred))"
      ]
    },
    {
      "cell_type": "code",
      "execution_count": null,
      "metadata": {
        "id": "UsiCSkQ440zV"
      },
      "outputs": [],
      "source": []
    },
    {
      "cell_type": "markdown",
      "metadata": {
        "id": "R2xPFZzn40zV"
      },
      "source": [
        "**OBSERVATIONS**\n",
        "\n",
        "In this process, we utilize the Bag of Words technique to transform text into a high-dimensional numeric vector. However, certain models like K-Nearest Neighbours (KNN) struggle with high-dimensional data because calculating distances in each dimension becomes challenging and computationally expensive. As a result, the model's performance is affected.\n",
        "\n",
        "The Multinomial NaiveBayes algorithm is particularly well-suited for text classification due to its ability to efficiently calculate probabilities for words in the corpus and store them in a contingency table.\n",
        "\n",
        "On the other hand, Random Forest overcomes the challenges of high-dimensional data by employing Bootstrapping (Row and Column Sampling) with multiple decision trees. This approach addresses issues like high variance and overfitting while using feature importance of words to improve category classification.\n"
      ]
    }
  ],
  "metadata": {
    "colab": {
      "provenance": [],
      "include_colab_link": true
    },
    "kernelspec": {
      "display_name": "Python 3 (ipykernel)",
      "language": "python",
      "name": "python3"
    },
    "language_info": {
      "codemirror_mode": {
        "name": "ipython",
        "version": 3
      },
      "file_extension": ".py",
      "mimetype": "text/x-python",
      "name": "python",
      "nbconvert_exporter": "python",
      "pygments_lexer": "ipython3",
      "version": "3.8.10"
    }
  },
  "nbformat": 4,
  "nbformat_minor": 0
}