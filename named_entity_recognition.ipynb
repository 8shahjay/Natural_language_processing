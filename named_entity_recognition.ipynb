{
  "cells": [
    {
      "cell_type": "markdown",
      "metadata": {
        "id": "view-in-github",
        "colab_type": "text"
      },
      "source": [
        "<a href=\"https://colab.research.google.com/github/newtonxp/Natural_language_processing/blob/main/named_entity_recognition.ipynb\" target=\"_parent\"><img src=\"https://colab.research.google.com/assets/colab-badge.svg\" alt=\"Open In Colab\"/></a>"
      ]
    },
    {
      "cell_type": "markdown",
      "metadata": {
        "id": "ibF7pjNyhBrR"
      },
      "source": [
        "###                     **Named Entity Recognition (NER)**"
      ]
    },
    {
      "cell_type": "code",
      "execution_count": 1,
      "metadata": {
        "id": "liI13P5Eg_w-"
      },
      "outputs": [],
      "source": [
        "#importing spacy library\n",
        "import spacy\n",
        "\n",
        "nlp = spacy.load(\"en_core_web_sm\")"
      ]
    },
    {
      "cell_type": "markdown",
      "metadata": {
        "id": "LFR-Ep2DhXXa"
      },
      "source": [
        "#### **Excersie: 1**\n",
        "\n",
        "- Extract all the Geographical (cities, Countries, states) names from a given text"
      ]
    },
    {
      "cell_type": "code",
      "execution_count": 2,
      "metadata": {
        "colab": {
          "base_uri": "https://localhost:8080/"
        },
        "id": "HgYXmU3phKbg",
        "outputId": "6a6e7812-2f4e-48cb-f10b-6963cf9346a3"
      },
      "outputs": [
        {
          "output_type": "stream",
          "name": "stdout",
          "text": [
            "Geographic Locations: ['India', 'Delhi', 'Gujarat', 'Tamilnadu', 'Andhrapradesh', 'Assam', 'Bihar']\n",
            "Number of locations: 7\n"
          ]
        }
      ],
      "source": [
        "text = \"\"\"Kiran wants to know the famous foods in each state of India. So, he opened Google and searched for this question. Google showed that\n",
        "in Delhi it is Chaat, in Gujarat it is Dal Dhokli, in Tamilnadu it is pongal, in Andhrapradesh it is Biryani, in Assam it is Papaya Khar,\n",
        "in Bihar it is Litti Chowkha and so on for all other states\"\"\"\n",
        "\n",
        "doc = nlp(text)\n",
        "\n",
        "loc = []\n",
        "for ent in doc.ents:\n",
        "  if ent.label_ == 'GPE':\n",
        "    loc.append(ent.text)\n",
        "\n",
        "\n",
        "print(\"Geographic Locations:\", loc)\n",
        "print(\"Number of locations:\", len(loc))"
      ]
    },
    {
      "cell_type": "markdown",
      "metadata": {
        "id": "fJT4UnUYkpSP"
      },
      "source": [
        "#### **Excersie: 2**\n",
        "\n",
        "- Extract all the birth dates of cricketers in the given Text"
      ]
    },
    {
      "cell_type": "code",
      "execution_count": 3,
      "metadata": {
        "colab": {
          "base_uri": "https://localhost:8080/"
        },
        "id": "pOMngJ2chKda",
        "outputId": "24b49bd9-78e4-45fe-d865-7da3a9017cdd"
      },
      "outputs": [
        {
          "output_type": "stream",
          "name": "stdout",
          "text": [
            "Birth Dates: ['24 April 1973', '5 November 1988', '7 July 1981', '19 December 1974']\n",
            "Count: 4\n"
          ]
        }
      ],
      "source": [
        "text = \"\"\"Sachin Tendulkar was born on 24 April 1973, Virat Kholi was born on 5 November 1988, Dhoni was born on 7 July 1981\n",
        "and finally Ricky ponting was born on 19 December 1974.\"\"\"\n",
        "\n",
        "doc = nlp(text)\n",
        "\n",
        "dates = []\n",
        "\n",
        "for ent in doc.ents:\n",
        "  if ent.label_ == 'DATE':\n",
        "    dates.append(ent.text)\n",
        "\n",
        "print(\"Birth Dates:\", dates)\n",
        "print(\"Count:\", len(dates))\n",
        "\n"
      ]
    }
  ],
  "metadata": {
    "colab": {
      "provenance": [],
      "include_colab_link": true
    },
    "kernelspec": {
      "display_name": "Python 3 (ipykernel)",
      "language": "python",
      "name": "python3"
    },
    "language_info": {
      "codemirror_mode": {
        "name": "ipython",
        "version": 3
      },
      "file_extension": ".py",
      "mimetype": "text/x-python",
      "name": "python",
      "nbconvert_exporter": "python",
      "pygments_lexer": "ipython3",
      "version": "3.8.10"
    }
  },
  "nbformat": 4,
  "nbformat_minor": 0
}